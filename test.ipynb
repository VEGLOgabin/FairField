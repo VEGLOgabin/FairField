{
 "cells": [
  {
   "cell_type": "code",
   "execution_count": 4,
   "metadata": {},
   "outputs": [],
   "source": [
    "import requests as r\n",
    "from bs4 import BeautifulSoup as B"
   ]
  },
  {
   "cell_type": "code",
   "execution_count": 14,
   "metadata": {},
   "outputs": [],
   "source": [
    "req = r.get(\"https://www.crestviewcollection.com/products/lighting/floor-lamps/barton-swing-arm-floor-lamp-cvavp044a\")"
   ]
  },
  {
   "cell_type": "code",
   "execution_count": 15,
   "metadata": {},
   "outputs": [
    {
     "data": {
      "text/plain": [
       "200"
      ]
     },
     "execution_count": 15,
     "metadata": {},
     "output_type": "execute_result"
    }
   ],
   "source": [
    "req.status_code"
   ]
  },
  {
   "cell_type": "code",
   "execution_count": 17,
   "metadata": {},
   "outputs": [],
   "source": [
    "soup = B(req.content, \"html.parser\")"
   ]
  },
  {
   "cell_type": "code",
   "execution_count": 19,
   "metadata": {},
   "outputs": [],
   "source": [
    "# Saving the prettified HTML to a file\n",
    "with open(\"output.html\", \"w\", encoding=\"utf-8\") as file:\n",
    "    file.write(soup.prettify())"
   ]
  },
  {
   "cell_type": "code",
   "execution_count": null,
   "metadata": {},
   "outputs": [],
   "source": [
    "products = soup"
   ]
  },
  {
   "cell_type": "code",
   "execution_count": null,
   "metadata": {},
   "outputs": [],
   "source": [
    "    # with open(\"products.html\", \"w\", encoding=\"utf-8\") as file:\n",
    "    #     file.write(soup.prettify())"
   ]
  },
  {
   "cell_type": "code",
   "execution_count": 1,
   "metadata": {},
   "outputs": [
    {
     "name": "stdout",
     "output_type": "stream",
     "text": [
      "Product links updated successfully.\n"
     ]
    }
   ],
   "source": [
    "import json\n",
    "\n",
    "# Load the JSON file\n",
    "input_file = 'products-links.json'\n",
    "with open(input_file, 'r', encoding='utf-8') as f:\n",
    "    data = json.load(f)\n",
    "\n",
    "# Update the product_link for each item\n",
    "base_url = \"https://www.crestviewcollection.com\"\n",
    "for item in data:\n",
    "    item['product_link'] = base_url + item['product_link']\n",
    "\n",
    "# Save the updated data back to the JSON file\n",
    "with open(input_file, 'w', encoding='utf-8') as f:\n",
    "    json.dump(data, f, ensure_ascii=False, indent=4)\n",
    "\n",
    "print(\"Product links updated successfully.\")\n"
   ]
  },
  {
   "cell_type": "code",
   "execution_count": 2,
   "metadata": {},
   "outputs": [
    {
     "name": "stdout",
     "output_type": "stream",
     "text": [
      "{'Item Height': 'Item Height', 'Item Length': 'Item Length', 'Item Width': 'Item Width', 'Finish': 'bronzed', 'Type': 'candle holders & hurricanes', 'Color': 'blue, gold', 'Styles': 'traditional'}\n"
     ]
    }
   ],
   "source": [
    "from bs4 import BeautifulSoup\n",
    "\n",
    "# Sample HTML input (as string)\n",
    "html_content = '''<section class=\"productFullDetail-details-Glq productFullDetail-section-dsM productFullDetail-details-Glq productFullDetail-section-dsM\">\n",
    "      <div class=\"customAttributes-root-MXb border-b border-primary\">\n",
    "       <div class=\"flex justify-between items-center py-[2rem] cursor-pointer\">\n",
    "        <p class=\"customAttributes-title-WXA large\">\n",
    "         Dimension Details\n",
    "        </p>\n",
    "        <span alt=\"Expand\" class=\"cursor-pointer\">\n",
    "         <svg class=\"icon-icon-o7a\" fill=\"none\" height=\"26\" stroke=\"currentColor\" stroke-linecap=\"round\" stroke-linejoin=\"round\" stroke-width=\"2\" viewbox=\"0 0 24 24\" width=\"26\" xmlns=\"http://www.w3.org/2000/svg\">\n",
    "          <line x1=\"5\" x2=\"19\" y1=\"12\" y2=\"12\">\n",
    "          </line>\n",
    "         </svg>\n",
    "        </span>\n",
    "       </div>\n",
    "       <div class=\"customAttributes-listWrapper-fMi customAttributes-listWrapper-fMi\">\n",
    "        <div>\n",
    "         <p class=\"large\">\n",
    "          Dimensions\n",
    "         </p>\n",
    "         <div>\n",
    "          <div class=\"lists\">\n",
    "           <ul class=\"customAttributes-list-qDg\">\n",
    "            <li>\n",
    "             <div class=\"price-label-fXs font-bold inline-block mr-2\">\n",
    "              Item Height\n",
    "             </div>\n",
    "             <div>\n",
    "              14.5\"\n",
    "             </div>\n",
    "            </li>\n",
    "            <li>\n",
    "             <div class=\"price-label-fXs font-bold inline-block mr-2\">\n",
    "              Item Length\n",
    "             </div>\n",
    "             <div>\n",
    "              5\"\n",
    "             </div>\n",
    "            </li>\n",
    "            <li>\n",
    "             <div class=\"price-label-fXs font-bold inline-block mr-2\">\n",
    "              Item Width\n",
    "             </div>\n",
    "             <div>\n",
    "              5\"\n",
    "             </div>\n",
    "            </li>\n",
    "           </ul>\n",
    "          </div>\n",
    "         </div>\n",
    "        </div>\n",
    "       </div>\n",
    "      </div>\n",
    "      <div class=\"customAttributes-root-MXb border-b border-primary\">\n",
    "       <div class=\"flex justify-between items-center py-[2rem] cursor-pointer\">\n",
    "        <p class=\"customAttributes-title-WXA large\">\n",
    "         Design Elements &amp; Features\n",
    "        </p>\n",
    "        <span alt=\"Expand\" class=\"cursor-pointer\">\n",
    "         <svg class=\"icon-icon-o7a\" fill=\"none\" height=\"26\" stroke=\"currentColor\" stroke-linecap=\"round\" stroke-linejoin=\"round\" stroke-width=\"2\" viewbox=\"0 0 24 24\" width=\"26\" xmlns=\"http://www.w3.org/2000/svg\">\n",
    "          <line x1=\"5\" x2=\"19\" y1=\"12\" y2=\"12\">\n",
    "          </line>\n",
    "         </svg>\n",
    "        </span>\n",
    "       </div>\n",
    "       <div class=\"customAttributes-listWrapper-fMi customAttributes-listWrapper-fMi\">\n",
    "        <div>\n",
    "         <p class=\"large\">\n",
    "          Specifications &amp; Features\n",
    "         </p>\n",
    "         <div>\n",
    "          <div class=\"lists\">\n",
    "           <ul class=\"customAttributes-list-qDg\">\n",
    "            <li>\n",
    "             <div class=\"text-label-daH font-bold inline-block mr-2\">\n",
    "              Finish\n",
    "             </div>\n",
    "             <div class=\"text-content-Mcy inline-block\">\n",
    "              bronzed\n",
    "             </div>\n",
    "            </li>\n",
    "           </ul>\n",
    "          </div>\n",
    "         </div>\n",
    "        </div>\n",
    "        <div>\n",
    "         <p class=\"large\">\n",
    "          Design Elements\n",
    "         </p>\n",
    "         <div>\n",
    "          <div class=\"lists\">\n",
    "           <ul class=\"customAttributes-list-qDg\">\n",
    "            <li>\n",
    "             <div class=\"select-label-F5C font-bold inline-block mr-2\">\n",
    "              Type\n",
    "             </div>\n",
    "             <div class=\"select-content-fTr inline-block\">\n",
    "              candle holders &amp; hurricanes\n",
    "             </div>\n",
    "            </li>\n",
    "            <li>\n",
    "             <div class=\"select-label-F5C font-bold inline-block mr-2\">\n",
    "              Color\n",
    "             </div>\n",
    "             <div class=\"select-content-fTr inline-block\">\n",
    "              blue, gold\n",
    "             </div>\n",
    "            </li>\n",
    "            <li>\n",
    "             <div class=\"multiselect-label-eUb font-bold inline-block mr-2\">\n",
    "              Styles\n",
    "             </div>\n",
    "             <div class=\"multiselect-content-Dtn inline-block\">\n",
    "              traditional\n",
    "             </div>\n",
    "            </li>\n",
    "           </ul>\n",
    "          </div>\n",
    "         </div>\n",
    "        </div>\n",
    "       </div>\n",
    "      </div>\n",
    "     </section>'''\n",
    "\n",
    "# Parse the HTML content\n",
    "soup = BeautifulSoup(html_content, 'html.parser')\n",
    "\n",
    "# Initialize dictionary to store results\n",
    "product_details = {}\n",
    "\n",
    "# Extract dimension details\n",
    "dimension_list = soup.find('div', class_='customAttributes-root-MXb')\n",
    "dimension_items = dimension_list.find_all('li')\n",
    "for item in dimension_items:\n",
    "    key = item.find('div', class_='price-label-fXs').get_text(strip=True)\n",
    "    value = item.find('div').get_text(strip=True)\n",
    "    product_details[key] = value\n",
    "\n",
    "# Extract design elements and features\n",
    "design_list = soup.find_all('div', class_='customAttributes-root-MXb')[1]  # Second block for design elements\n",
    "design_items = design_list.find_all('li')\n",
    "for item in design_items:\n",
    "    key = item.find('div', class_=['text-label-daH', 'select-label-F5C', 'multiselect-label-eUb']).get_text(strip=True)\n",
    "    value = item.find('div', class_=['text-content-Mcy', 'select-content-fTr', 'multiselect-content-Dtn']).get_text(strip=True)\n",
    "    product_details[key] = value\n",
    "\n",
    "# Print the result\n",
    "print(product_details)\n"
   ]
  }
 ],
 "metadata": {
  "kernelspec": {
   "display_name": "Python 3",
   "language": "python",
   "name": "python3"
  },
  "language_info": {
   "codemirror_mode": {
    "name": "ipython",
    "version": 3
   },
   "file_extension": ".py",
   "mimetype": "text/x-python",
   "name": "python",
   "nbconvert_exporter": "python",
   "pygments_lexer": "ipython3",
   "version": "3.8.10"
  }
 },
 "nbformat": 4,
 "nbformat_minor": 2
}
